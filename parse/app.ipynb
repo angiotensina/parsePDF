{
 "cells": [
  {
   "cell_type": "code",
   "execution_count": 6,
   "metadata": {},
   "outputs": [
    {
     "name": "stdout",
     "output_type": "stream",
     "text": [
      "Started parsing the file under job_id 0c23066f-5037-4be8-8ae1-5b3c8fc4e949\n"
     ]
    }
   ],
   "source": [
    "\n",
    "import nest_asyncio\n",
    "import os\n",
    "from llama_parse import LlamaParse\n",
    "from llama_index.core import SimpleDirectoryReader\n",
    "from dotenv import load_dotenv, find_dotenv\n",
    "\n",
    "nest_asyncio.apply()\n",
    "\n",
    "# Carga las variables de entorno desde un archivo .env\n",
    "load_dotenv(find_dotenv(), override=True)\n",
    "\n",
    "# Obtiene la API key de OpenAI desde las variables de entorno\n",
    "llama_key = os.environ.get(\"LLAMA_CLOUD_API_KEY\")\n",
    "\n",
    "parser = LlamaParse(\n",
    "    api_key= llama_key,\n",
    "    result_type=\"text\",  # \"markdown\" and \"text\" are available\n",
    "    verbose=True,\n",
    ")\n",
    "\n",
    "file_extractor = {\".pdf\": parser}\n",
    "documents = SimpleDirectoryReader(\n",
    "    \"./PDF\", file_extractor=file_extractor\n",
    ").load_data()\n"
   ]
  },
  {
   "cell_type": "code",
   "execution_count": null,
   "metadata": {},
   "outputs": [],
   "source": [
    "print(documents[0].text)\n"
   ]
  },
  {
   "cell_type": "code",
   "execution_count": 8,
   "metadata": {},
   "outputs": [],
   "source": [
    "filename = \"output.txt\"\n",
    "with open(filename, \"w\") as f:\n",
    "    f.write(documents[0].text)"
   ]
  }
 ],
 "metadata": {
  "kernelspec": {
   "display_name": "parse",
   "language": "python",
   "name": "python3"
  },
  "language_info": {
   "codemirror_mode": {
    "name": "ipython",
    "version": 3
   },
   "file_extension": ".py",
   "mimetype": "text/x-python",
   "name": "python",
   "nbconvert_exporter": "python",
   "pygments_lexer": "ipython3",
   "version": "3.12.2"
  }
 },
 "nbformat": 4,
 "nbformat_minor": 2
}
